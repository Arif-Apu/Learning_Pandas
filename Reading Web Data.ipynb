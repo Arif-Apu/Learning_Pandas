{
 "cells": [
  {
   "cell_type": "code",
   "execution_count": 1,
   "metadata": {},
   "outputs": [
    {
     "name": "stdout",
     "output_type": "stream",
     "text": [
      "  State/District Abbreviation Postal Code\n",
      "0        Alabama         Ala.          AL\n",
      "1         Alaska       Alaska          AK\n",
      "2        Arizona        Ariz.          AZ\n",
      "3       Arkansas         Ark.          AR\n",
      "4     California       Calif.          CA\n",
      "  Territory/Associate Abbreviation Postal Code\n",
      "0      American Samoa          NaN          AS\n",
      "1                Guam         Guam          GU\n",
      "2    Marshall Islands          NaN          MH\n",
      "3          Micronesia          NaN          FM\n",
      "4   Northern Marianas          NaN          MP\n"
     ]
    }
   ],
   "source": [
    "import pandas as pd\n",
    "\n",
    "import requests\n",
    "\n",
    "web = requests.get('https://www.infoplease.com/us/postal-information/state-abbreviations-and-state-postal-codes')\n",
    "\n",
    "dfs = pd.read_html(web.text)\n",
    "\n",
    "for df in dfs:\n",
    "    print(df.head())\n"
   ]
  },
  {
   "cell_type": "code",
   "execution_count": 2,
   "metadata": {},
   "outputs": [
    {
     "data": {
      "text/html": [
       "<div>\n",
       "<style scoped>\n",
       "    .dataframe tbody tr th:only-of-type {\n",
       "        vertical-align: middle;\n",
       "    }\n",
       "\n",
       "    .dataframe tbody tr th {\n",
       "        vertical-align: top;\n",
       "    }\n",
       "\n",
       "    .dataframe thead th {\n",
       "        text-align: right;\n",
       "    }\n",
       "</style>\n",
       "<table border=\"1\" class=\"dataframe\">\n",
       "  <thead>\n",
       "    <tr style=\"text-align: right;\">\n",
       "      <th></th>\n",
       "      <th>State/District</th>\n",
       "      <th>Abbreviation</th>\n",
       "      <th>Postal Code</th>\n",
       "    </tr>\n",
       "  </thead>\n",
       "  <tbody>\n",
       "    <tr>\n",
       "      <th>0</th>\n",
       "      <td>Alabama</td>\n",
       "      <td>Ala.</td>\n",
       "      <td>AL</td>\n",
       "    </tr>\n",
       "    <tr>\n",
       "      <th>1</th>\n",
       "      <td>Alaska</td>\n",
       "      <td>Alaska</td>\n",
       "      <td>AK</td>\n",
       "    </tr>\n",
       "    <tr>\n",
       "      <th>2</th>\n",
       "      <td>Arizona</td>\n",
       "      <td>Ariz.</td>\n",
       "      <td>AZ</td>\n",
       "    </tr>\n",
       "    <tr>\n",
       "      <th>3</th>\n",
       "      <td>Arkansas</td>\n",
       "      <td>Ark.</td>\n",
       "      <td>AR</td>\n",
       "    </tr>\n",
       "    <tr>\n",
       "      <th>4</th>\n",
       "      <td>California</td>\n",
       "      <td>Calif.</td>\n",
       "      <td>CA</td>\n",
       "    </tr>\n",
       "  </tbody>\n",
       "</table>\n",
       "</div>"
      ],
      "text/plain": [
       "  State/District Abbreviation Postal Code\n",
       "0        Alabama         Ala.          AL\n",
       "1         Alaska       Alaska          AK\n",
       "2        Arizona        Ariz.          AZ\n",
       "3       Arkansas         Ark.          AR\n",
       "4     California       Calif.          CA"
      ]
     },
     "execution_count": 2,
     "metadata": {},
     "output_type": "execute_result"
    }
   ],
   "source": [
    "state_abbv = dfs[0]\n",
    "state_abbv.head()"
   ]
  },
  {
   "cell_type": "markdown",
   "metadata": {},
   "source": [
    "###### Saving To CSV File"
   ]
  },
  {
   "cell_type": "code",
   "execution_count": 3,
   "metadata": {},
   "outputs": [],
   "source": [
    "state_abbv.to_csv('state_abbv.csv', index = False)"
   ]
  },
  {
   "cell_type": "code",
   "execution_count": 4,
   "metadata": {},
   "outputs": [
    {
     "data": {
      "text/html": [
       "<div>\n",
       "<style scoped>\n",
       "    .dataframe tbody tr th:only-of-type {\n",
       "        vertical-align: middle;\n",
       "    }\n",
       "\n",
       "    .dataframe tbody tr th {\n",
       "        vertical-align: top;\n",
       "    }\n",
       "\n",
       "    .dataframe thead th {\n",
       "        text-align: right;\n",
       "    }\n",
       "</style>\n",
       "<table border=\"1\" class=\"dataframe\">\n",
       "  <thead>\n",
       "    <tr style=\"text-align: right;\">\n",
       "      <th></th>\n",
       "      <th>State/District</th>\n",
       "      <th>Abbreviation</th>\n",
       "      <th>Postal Code</th>\n",
       "    </tr>\n",
       "  </thead>\n",
       "  <tbody>\n",
       "    <tr>\n",
       "      <th>0</th>\n",
       "      <td>Alabama</td>\n",
       "      <td>Ala.</td>\n",
       "      <td>AL</td>\n",
       "    </tr>\n",
       "    <tr>\n",
       "      <th>1</th>\n",
       "      <td>Alaska</td>\n",
       "      <td>Alaska</td>\n",
       "      <td>AK</td>\n",
       "    </tr>\n",
       "    <tr>\n",
       "      <th>2</th>\n",
       "      <td>Arizona</td>\n",
       "      <td>Ariz.</td>\n",
       "      <td>AZ</td>\n",
       "    </tr>\n",
       "    <tr>\n",
       "      <th>3</th>\n",
       "      <td>Arkansas</td>\n",
       "      <td>Ark.</td>\n",
       "      <td>AR</td>\n",
       "    </tr>\n",
       "    <tr>\n",
       "      <th>4</th>\n",
       "      <td>California</td>\n",
       "      <td>Calif.</td>\n",
       "      <td>CA</td>\n",
       "    </tr>\n",
       "  </tbody>\n",
       "</table>\n",
       "</div>"
      ],
      "text/plain": [
       "  State/District Abbreviation Postal Code\n",
       "0        Alabama         Ala.          AL\n",
       "1         Alaska       Alaska          AK\n",
       "2        Arizona        Ariz.          AZ\n",
       "3       Arkansas         Ark.          AR\n",
       "4     California       Calif.          CA"
      ]
     },
     "execution_count": 4,
     "metadata": {},
     "output_type": "execute_result"
    }
   ],
   "source": [
    "state_abbv = pd.read_csv('state_abbv.csv')\n",
    "state_abbv.head()"
   ]
  },
  {
   "cell_type": "code",
   "execution_count": 5,
   "metadata": {},
   "outputs": [
    {
     "data": {
      "text/plain": [
       "State/District    object\n",
       "Abbreviation      object\n",
       "Postal Code       object\n",
       "dtype: object"
      ]
     },
     "execution_count": 5,
     "metadata": {},
     "output_type": "execute_result"
    }
   ],
   "source": [
    "state_abbv.dtypes"
   ]
  },
  {
   "cell_type": "code",
   "execution_count": 8,
   "metadata": {},
   "outputs": [
    {
     "name": "stdout",
     "output_type": "stream",
     "text": [
      "<class 'pandas.core.frame.DataFrame'>\n",
      "RangeIndex: 51 entries, 0 to 50\n",
      "Data columns (total 3 columns):\n",
      "State/District    51 non-null object\n",
      "Abbreviation      51 non-null object\n",
      "Postal Code       51 non-null object\n",
      "dtypes: object(3)\n",
      "memory usage: 1.3+ KB\n"
     ]
    }
   ],
   "source": [
    "state_abbv.info()"
   ]
  },
  {
   "cell_type": "code",
   "execution_count": 9,
   "metadata": {},
   "outputs": [
    {
     "data": {
      "text/plain": [
       "(51, 3)"
      ]
     },
     "execution_count": 9,
     "metadata": {},
     "output_type": "execute_result"
    }
   ],
   "source": [
    "state_abbv.shape"
   ]
  },
  {
   "cell_type": "code",
   "execution_count": 10,
   "metadata": {},
   "outputs": [
    {
     "data": {
      "text/html": [
       "<div>\n",
       "<style scoped>\n",
       "    .dataframe tbody tr th:only-of-type {\n",
       "        vertical-align: middle;\n",
       "    }\n",
       "\n",
       "    .dataframe tbody tr th {\n",
       "        vertical-align: top;\n",
       "    }\n",
       "\n",
       "    .dataframe thead th {\n",
       "        text-align: right;\n",
       "    }\n",
       "</style>\n",
       "<table border=\"1\" class=\"dataframe\">\n",
       "  <thead>\n",
       "    <tr style=\"text-align: right;\">\n",
       "      <th></th>\n",
       "      <th>Abbreviation</th>\n",
       "      <th>Postal Code</th>\n",
       "    </tr>\n",
       "    <tr>\n",
       "      <th>State/District</th>\n",
       "      <th></th>\n",
       "      <th></th>\n",
       "    </tr>\n",
       "  </thead>\n",
       "  <tbody>\n",
       "    <tr>\n",
       "      <th>Alabama</th>\n",
       "      <td>Ala.</td>\n",
       "      <td>AL</td>\n",
       "    </tr>\n",
       "    <tr>\n",
       "      <th>Alaska</th>\n",
       "      <td>Alaska</td>\n",
       "      <td>AK</td>\n",
       "    </tr>\n",
       "    <tr>\n",
       "      <th>Arizona</th>\n",
       "      <td>Ariz.</td>\n",
       "      <td>AZ</td>\n",
       "    </tr>\n",
       "    <tr>\n",
       "      <th>Arkansas</th>\n",
       "      <td>Ark.</td>\n",
       "      <td>AR</td>\n",
       "    </tr>\n",
       "    <tr>\n",
       "      <th>California</th>\n",
       "      <td>Calif.</td>\n",
       "      <td>CA</td>\n",
       "    </tr>\n",
       "  </tbody>\n",
       "</table>\n",
       "</div>"
      ],
      "text/plain": [
       "               Abbreviation Postal Code\n",
       "State/District                         \n",
       "Alabama                Ala.          AL\n",
       "Alaska               Alaska          AK\n",
       "Arizona               Ariz.          AZ\n",
       "Arkansas               Ark.          AR\n",
       "California           Calif.          CA"
      ]
     },
     "execution_count": 10,
     "metadata": {},
     "output_type": "execute_result"
    }
   ],
   "source": [
    "state_abbv = pd.read_csv('state_abbv.csv', index_col = 0)\n",
    "state_abbv.head()"
   ]
  },
  {
   "cell_type": "code",
   "execution_count": 11,
   "metadata": {},
   "outputs": [
    {
     "name": "stdout",
     "output_type": "stream",
     "text": [
      "        Country/region  at birth(CIA estimate, 2016)[1]  0–14 years  \\\n",
      "0              – World                             1.09        1.07   \n",
      "1          Afghanistan                             1.05        1.03   \n",
      "2              Albania                             1.10        1.12   \n",
      "3              Algeria                             1.05        1.05   \n",
      "4  American Samoa (US)                             1.06        0.96   \n",
      "\n",
      "   15–24 years  25–54 years  55–64 years  over 65  total  \\\n",
      "0         1.07         1.02         0.95    0.805  1.015   \n",
      "1         1.04         1.04         0.97    0.860   1.03   \n",
      "2         1.07         0.91         0.98    0.890   0.98   \n",
      "3         1.05         1.02         1.03    0.860   1.03   \n",
      "4         0.96         1.06         0.96    0.850   1.00   \n",
      "\n",
      "   at birth(WDB estimate, 2012)[5]  \n",
      "0                             1.07  \n",
      "1                             1.07  \n",
      "2                             1.07  \n",
      "3                             1.05  \n",
      "4                              NaN  \n",
      "  vteLists of countries by population statistics  \\\n",
      "0                                         Global   \n",
      "1                               (Sub-)continents   \n",
      "2                               Intercontinental   \n",
      "3                           Cities/urban regions   \n",
      "4                                Past and future   \n",
      "\n",
      "    vteLists of countries by population statistics.1  \n",
      "0       Current population Demographics of the world  \n",
      "1  Africa Asia Europe North America Caribbean Oce...  \n",
      "2  Americas Arab world Commonwealth of Nations Eu...  \n",
      "3  National capitals Cities proper Metropolitan a...  \n",
      "4  Past and future population World population es...  \n"
     ]
    }
   ],
   "source": [
    "sex_ratio = requests.get('https://en.wikipedia.org/wiki/List_of_countries_by_sex_ratio')\n",
    "\n",
    "datas = pd.read_html(sex_ratio.text)\n",
    "\n",
    "for data in datas:\n",
    "    print(data.head())"
   ]
  },
  {
   "cell_type": "code",
   "execution_count": 12,
   "metadata": {},
   "outputs": [
    {
     "data": {
      "text/html": [
       "<div>\n",
       "<style scoped>\n",
       "    .dataframe tbody tr th:only-of-type {\n",
       "        vertical-align: middle;\n",
       "    }\n",
       "\n",
       "    .dataframe tbody tr th {\n",
       "        vertical-align: top;\n",
       "    }\n",
       "\n",
       "    .dataframe thead th {\n",
       "        text-align: right;\n",
       "    }\n",
       "</style>\n",
       "<table border=\"1\" class=\"dataframe\">\n",
       "  <thead>\n",
       "    <tr style=\"text-align: right;\">\n",
       "      <th></th>\n",
       "      <th>Country/region</th>\n",
       "      <th>at birth(CIA estimate, 2016)[1]</th>\n",
       "      <th>0–14 years</th>\n",
       "      <th>15–24 years</th>\n",
       "      <th>25–54 years</th>\n",
       "      <th>55–64 years</th>\n",
       "      <th>over 65</th>\n",
       "      <th>total</th>\n",
       "      <th>at birth(WDB estimate, 2012)[5]</th>\n",
       "    </tr>\n",
       "  </thead>\n",
       "  <tbody>\n",
       "    <tr>\n",
       "      <th>0</th>\n",
       "      <td>– World</td>\n",
       "      <td>1.09</td>\n",
       "      <td>1.07</td>\n",
       "      <td>1.07</td>\n",
       "      <td>1.02</td>\n",
       "      <td>0.95</td>\n",
       "      <td>0.805</td>\n",
       "      <td>1.015</td>\n",
       "      <td>1.07</td>\n",
       "    </tr>\n",
       "    <tr>\n",
       "      <th>1</th>\n",
       "      <td>Afghanistan</td>\n",
       "      <td>1.05</td>\n",
       "      <td>1.03</td>\n",
       "      <td>1.04</td>\n",
       "      <td>1.04</td>\n",
       "      <td>0.97</td>\n",
       "      <td>0.860</td>\n",
       "      <td>1.03</td>\n",
       "      <td>1.07</td>\n",
       "    </tr>\n",
       "    <tr>\n",
       "      <th>2</th>\n",
       "      <td>Albania</td>\n",
       "      <td>1.10</td>\n",
       "      <td>1.12</td>\n",
       "      <td>1.07</td>\n",
       "      <td>0.91</td>\n",
       "      <td>0.98</td>\n",
       "      <td>0.890</td>\n",
       "      <td>0.98</td>\n",
       "      <td>1.07</td>\n",
       "    </tr>\n",
       "    <tr>\n",
       "      <th>3</th>\n",
       "      <td>Algeria</td>\n",
       "      <td>1.05</td>\n",
       "      <td>1.05</td>\n",
       "      <td>1.05</td>\n",
       "      <td>1.02</td>\n",
       "      <td>1.03</td>\n",
       "      <td>0.860</td>\n",
       "      <td>1.03</td>\n",
       "      <td>1.05</td>\n",
       "    </tr>\n",
       "    <tr>\n",
       "      <th>4</th>\n",
       "      <td>American Samoa (US)</td>\n",
       "      <td>1.06</td>\n",
       "      <td>0.96</td>\n",
       "      <td>0.96</td>\n",
       "      <td>1.06</td>\n",
       "      <td>0.96</td>\n",
       "      <td>0.850</td>\n",
       "      <td>1.00</td>\n",
       "      <td>NaN</td>\n",
       "    </tr>\n",
       "  </tbody>\n",
       "</table>\n",
       "</div>"
      ],
      "text/plain": [
       "        Country/region  at birth(CIA estimate, 2016)[1]  0–14 years  \\\n",
       "0              – World                             1.09        1.07   \n",
       "1          Afghanistan                             1.05        1.03   \n",
       "2              Albania                             1.10        1.12   \n",
       "3              Algeria                             1.05        1.05   \n",
       "4  American Samoa (US)                             1.06        0.96   \n",
       "\n",
       "   15–24 years  25–54 years  55–64 years  over 65  total  \\\n",
       "0         1.07         1.02         0.95    0.805  1.015   \n",
       "1         1.04         1.04         0.97    0.860   1.03   \n",
       "2         1.07         0.91         0.98    0.890   0.98   \n",
       "3         1.05         1.02         1.03    0.860   1.03   \n",
       "4         0.96         1.06         0.96    0.850   1.00   \n",
       "\n",
       "   at birth(WDB estimate, 2012)[5]  \n",
       "0                             1.07  \n",
       "1                             1.07  \n",
       "2                             1.07  \n",
       "3                             1.05  \n",
       "4                              NaN  "
      ]
     },
     "execution_count": 12,
     "metadata": {},
     "output_type": "execute_result"
    }
   ],
   "source": [
    "country_sex_ratio = datas[0]\n",
    "country_sex_ratio.head()\n"
   ]
  },
  {
   "cell_type": "code",
   "execution_count": 14,
   "metadata": {},
   "outputs": [
    {
     "data": {
      "text/plain": [
       "Country/region                      object\n",
       "at birth(CIA estimate, 2016)[1]    float64\n",
       "0–14 years                         float64\n",
       "15–24 years                        float64\n",
       "25–54 years                        float64\n",
       "55–64 years                        float64\n",
       "over 65                            float64\n",
       "total                               object\n",
       "at birth(WDB estimate, 2012)[5]    float64\n",
       "dtype: object"
      ]
     },
     "execution_count": 14,
     "metadata": {},
     "output_type": "execute_result"
    }
   ],
   "source": [
    "country_sex_ratio.dtypes"
   ]
  },
  {
   "cell_type": "code",
   "execution_count": 15,
   "metadata": {},
   "outputs": [
    {
     "data": {
      "text/plain": [
       "(230, 9)"
      ]
     },
     "execution_count": 15,
     "metadata": {},
     "output_type": "execute_result"
    }
   ],
   "source": [
    "country_sex_ratio.shape"
   ]
  },
  {
   "cell_type": "code",
   "execution_count": 16,
   "metadata": {},
   "outputs": [
    {
     "name": "stdout",
     "output_type": "stream",
     "text": [
      "<class 'pandas.core.frame.DataFrame'>\n",
      "RangeIndex: 230 entries, 0 to 229\n",
      "Data columns (total 9 columns):\n",
      "Country/region                     230 non-null object\n",
      "at birth(CIA estimate, 2016)[1]    230 non-null float64\n",
      "0–14 years                         230 non-null float64\n",
      "15–24 years                        230 non-null float64\n",
      "25–54 years                        230 non-null float64\n",
      "55–64 years                        230 non-null float64\n",
      "over 65                            230 non-null float64\n",
      "total                              230 non-null object\n",
      "at birth(WDB estimate, 2012)[5]    191 non-null float64\n",
      "dtypes: float64(7), object(2)\n",
      "memory usage: 16.2+ KB\n"
     ]
    }
   ],
   "source": [
    "country_sex_ratio.info()"
   ]
  },
  {
   "cell_type": "code",
   "execution_count": 17,
   "metadata": {},
   "outputs": [
    {
     "data": {
      "text/html": [
       "<div>\n",
       "<style scoped>\n",
       "    .dataframe tbody tr th:only-of-type {\n",
       "        vertical-align: middle;\n",
       "    }\n",
       "\n",
       "    .dataframe tbody tr th {\n",
       "        vertical-align: top;\n",
       "    }\n",
       "\n",
       "    .dataframe thead th {\n",
       "        text-align: right;\n",
       "    }\n",
       "</style>\n",
       "<table border=\"1\" class=\"dataframe\">\n",
       "  <thead>\n",
       "    <tr style=\"text-align: right;\">\n",
       "      <th></th>\n",
       "      <th>at birth(CIA estimate, 2016)[1]</th>\n",
       "      <th>0–14 years</th>\n",
       "      <th>15–24 years</th>\n",
       "      <th>25–54 years</th>\n",
       "      <th>55–64 years</th>\n",
       "      <th>over 65</th>\n",
       "      <th>at birth(WDB estimate, 2012)[5]</th>\n",
       "    </tr>\n",
       "  </thead>\n",
       "  <tbody>\n",
       "    <tr>\n",
       "      <th>count</th>\n",
       "      <td>230.000000</td>\n",
       "      <td>230.000000</td>\n",
       "      <td>230.000000</td>\n",
       "      <td>230.000000</td>\n",
       "      <td>230.000000</td>\n",
       "      <td>230.000000</td>\n",
       "      <td>191.000000</td>\n",
       "    </tr>\n",
       "    <tr>\n",
       "      <th>mean</th>\n",
       "      <td>1.049957</td>\n",
       "      <td>1.043522</td>\n",
       "      <td>1.045304</td>\n",
       "      <td>1.033696</td>\n",
       "      <td>0.955957</td>\n",
       "      <td>0.807804</td>\n",
       "      <td>1.052356</td>\n",
       "    </tr>\n",
       "    <tr>\n",
       "      <th>std</th>\n",
       "      <td>0.028993</td>\n",
       "      <td>0.035503</td>\n",
       "      <td>0.124018</td>\n",
       "      <td>0.316370</td>\n",
       "      <td>0.242895</td>\n",
       "      <td>0.168649</td>\n",
       "      <td>0.021081</td>\n",
       "    </tr>\n",
       "    <tr>\n",
       "      <th>min</th>\n",
       "      <td>0.830000</td>\n",
       "      <td>0.770000</td>\n",
       "      <td>0.820000</td>\n",
       "      <td>0.710000</td>\n",
       "      <td>0.540000</td>\n",
       "      <td>0.370000</td>\n",
       "      <td>1.010000</td>\n",
       "    </tr>\n",
       "    <tr>\n",
       "      <th>25%</th>\n",
       "      <td>1.032500</td>\n",
       "      <td>1.030000</td>\n",
       "      <td>1.010000</td>\n",
       "      <td>0.960000</td>\n",
       "      <td>0.870000</td>\n",
       "      <td>0.720000</td>\n",
       "      <td>1.040000</td>\n",
       "    </tr>\n",
       "    <tr>\n",
       "      <th>50%</th>\n",
       "      <td>1.050000</td>\n",
       "      <td>1.045000</td>\n",
       "      <td>1.040000</td>\n",
       "      <td>1.000000</td>\n",
       "      <td>0.950000</td>\n",
       "      <td>0.800000</td>\n",
       "      <td>1.050000</td>\n",
       "    </tr>\n",
       "    <tr>\n",
       "      <th>75%</th>\n",
       "      <td>1.060000</td>\n",
       "      <td>1.060000</td>\n",
       "      <td>1.060000</td>\n",
       "      <td>1.030000</td>\n",
       "      <td>1.000000</td>\n",
       "      <td>0.870000</td>\n",
       "      <td>1.060000</td>\n",
       "    </tr>\n",
       "    <tr>\n",
       "      <th>max</th>\n",
       "      <td>1.260000</td>\n",
       "      <td>1.170000</td>\n",
       "      <td>2.640000</td>\n",
       "      <td>4.910000</td>\n",
       "      <td>3.380000</td>\n",
       "      <td>1.710000</td>\n",
       "      <td>1.190000</td>\n",
       "    </tr>\n",
       "  </tbody>\n",
       "</table>\n",
       "</div>"
      ],
      "text/plain": [
       "       at birth(CIA estimate, 2016)[1]  0–14 years  15–24 years  25–54 years  \\\n",
       "count                       230.000000  230.000000   230.000000   230.000000   \n",
       "mean                          1.049957    1.043522     1.045304     1.033696   \n",
       "std                           0.028993    0.035503     0.124018     0.316370   \n",
       "min                           0.830000    0.770000     0.820000     0.710000   \n",
       "25%                           1.032500    1.030000     1.010000     0.960000   \n",
       "50%                           1.050000    1.045000     1.040000     1.000000   \n",
       "75%                           1.060000    1.060000     1.060000     1.030000   \n",
       "max                           1.260000    1.170000     2.640000     4.910000   \n",
       "\n",
       "       55–64 years     over 65  at birth(WDB estimate, 2012)[5]  \n",
       "count   230.000000  230.000000                       191.000000  \n",
       "mean      0.955957    0.807804                         1.052356  \n",
       "std       0.242895    0.168649                         0.021081  \n",
       "min       0.540000    0.370000                         1.010000  \n",
       "25%       0.870000    0.720000                         1.040000  \n",
       "50%       0.950000    0.800000                         1.050000  \n",
       "75%       1.000000    0.870000                         1.060000  \n",
       "max       3.380000    1.710000                         1.190000  "
      ]
     },
     "execution_count": 17,
     "metadata": {},
     "output_type": "execute_result"
    }
   ],
   "source": [
    "country_sex_ratio.describe()"
   ]
  },
  {
   "cell_type": "code",
   "execution_count": null,
   "metadata": {},
   "outputs": [],
   "source": []
  },
  {
   "cell_type": "code",
   "execution_count": null,
   "metadata": {},
   "outputs": [],
   "source": []
  }
 ],
 "metadata": {
  "kernelspec": {
   "display_name": "Python 3",
   "language": "python",
   "name": "python3"
  },
  "language_info": {
   "codemirror_mode": {
    "name": "ipython",
    "version": 3
   },
   "file_extension": ".py",
   "mimetype": "text/x-python",
   "name": "python",
   "nbconvert_exporter": "python",
   "pygments_lexer": "ipython3",
   "version": "3.7.3"
  }
 },
 "nbformat": 4,
 "nbformat_minor": 2
}
